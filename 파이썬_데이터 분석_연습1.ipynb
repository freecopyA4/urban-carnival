{
 "cells": [
  {
   "cell_type": "markdown",
   "metadata": {},
   "source": [
    "1.영화 평균\n",
    " "
   ]
  },
  {
   "cell_type": "code",
   "execution_count": null,
   "metadata": {},
   "outputs": [],
   "source": [
    "\n",
    "\n",
    "import pandas as pd\n",
    "import os\n",
    "encoding = 'latin1'\n",
    "\n",
    "upath = os.path.expanduser('C:/Users/noctu/Desktop/1/1.2/ch02/movielens/users.dat')\n",
    "rpath = os.path.expanduser('C:/Users/noctu/Desktop/1/1.2/ch02/movielens/ratings.dat')\n",
    "mpath = os.path.expanduser('C:/Users/noctu/Desktop/1/1.2/ch02/movielens/movies.dat')\n",
    "\n",
    "unames = ['user_id', 'gender', 'age', 'occupation', 'zip']\n",
    "rnames = ['user_id', 'movie_id', 'rating', 'timestamp']\n",
    "mnames = ['movie_id', 'title', 'genres']\n",
    "\n",
    "users = pd.read_csv(upath, sep='::', header=None, names=unames, encoding=encoding)\n",
    "ratings = pd.read_csv(rpath, sep='::', header=None, names=rnames, encoding=encoding)\n",
    "movies = pd.read_csv(mpath, sep='::', header=None, names=mnames, encoding=encoding )\n",
    "\n",
    "data = pd.merge(pd.merge(ratings, users), movies)\n",
    "data\n",
    "\n",
    "mean_ratings = mean_ratings = data.pivot_table('rating', index='title',\n",
    "                                               columns='gender', aggfunc='mean')\n",
    "mean_ratings[:5]\n",
    "\n",
    "ratings_by_title = data.groupby('title').size()\n",
    "ratings_by_title[:10]\n",
    "\n",
    "active_titles = ratings_by_title.index[ratings_by_title >= 250]\n",
    "active_titles\n",
    "\n",
    "mean_ratings = mean_ratings.loc[active_titles]\n",
    "mean_ratings\n",
    "\n",
    "top_female_ratings = mean_ratings.sort_index(ascending=False)  #by='F'\n",
    "top_female_ratings[:10]\n",
    "\n",
    "mean_ratings['diff'] = mean_ratings['M'] - mean_ratings['F']\n",
    "sorted_by_diff = mean_ratings.sort_values()  #by='diff'\n",
    "sorted_by_diff[:15]\n",
    "\n",
    "sorted_by_diff[::-1][:15]"
   ]
  }
 ],
 "metadata": {
  "interpreter": {
   "hash": "97e354f0cdccdcfe53b1703901d26b2100919c25493c36c52dd5015210378920"
  },
  "kernelspec": {
   "display_name": "Python 3.9.10 64-bit (windows store)",
   "language": "python",
   "name": "python3"
  },
  "language_info": {
   "codemirror_mode": {
    "name": "ipython",
    "version": 3
   },
   "file_extension": ".py",
   "mimetype": "text/x-python",
   "name": "python",
   "nbconvert_exporter": "python",
   "pygments_lexer": "ipython3",
   "version": "3.9.10"
  },
  "orig_nbformat": 4
 },
 "nbformat": 4,
 "nbformat_minor": 2
}
